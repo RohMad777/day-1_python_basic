{
 "cells": [
  {
   "cell_type": "markdown",
   "id": "4ed394f4",
   "metadata": {},
   "source": [
    "# Type Data"
   ]
  },
  {
   "cell_type": "code",
   "execution_count": 11,
   "id": "68d85564",
   "metadata": {},
   "outputs": [
    {
     "name": "stdout",
     "output_type": "stream",
     "text": [
      "<class 'int'>\n",
      "<class 'float'>\n",
      "<class 'str'>\n",
      "<class 'bool'>\n"
     ]
    }
   ],
   "source": [
    "x = 10\n",
    "y = 9.7\n",
    "z = \"RohMad\"\n",
    "bolean = True\n",
    "print(type(x))  #output tipe data integer\n",
    "print(type(y))  #output tipe data float\n",
    "print(type(z))  #output tipe data string\n",
    "print(type(bolean))  #output tipe data boolean"
   ]
  },
  {
   "cell_type": "markdown",
   "id": "09a69b85",
   "metadata": {},
   "source": [
    "# Operators and Expression in Python"
   ]
  },
  {
   "cell_type": "code",
   "execution_count": 15,
   "id": "11eaba97",
   "metadata": {},
   "outputs": [
    {
     "name": "stdout",
     "output_type": "stream",
     "text": [
      "7\n",
      "1\n",
      "12\n",
      "1.3333333333333333\n",
      "1\n",
      "64\n",
      "False\n",
      "True\n",
      "False\n",
      "True\n"
     ]
    }
   ],
   "source": [
    "a = 4\n",
    "b = 3\n",
    "print(a + b)  # penambahan\n",
    "print(a - b)  # pengurangan\n",
    "print(a * b)  #perkalian\n",
    "print(a / b)  #pembagian\n",
    "print(a % b)  #sisa bagi/modulus\n",
    "print(a**b)  #perpangakatan\n",
    "\n",
    "#Comparion Operator\n",
    "print(a == b)  #samadengan/equal to\n",
    "print(a != b)  #tidak samadengan/not\n",
    "print(a <= b)  #samadengan kurang dari\n",
    "print(a >= b)  #samadengan lebih dari"
   ]
  },
  {
   "cell_type": "markdown",
   "id": "b79f1c84",
   "metadata": {},
   "source": [
    "# String Manipulation"
   ]
  },
  {
   "cell_type": "code",
   "execution_count": 30,
   "id": "a5972452",
   "metadata": {},
   "outputs": [
    {
     "name": "stdout",
     "output_type": "stream",
     "text": [
      "foobarbaz\n",
      "True\n",
      "False\n",
      "Rohmad rohmad\n",
      "rohmad rohmad\n",
      "rOHmad ROHMAD\n",
      "Rohmad Rohmad\n",
      "ROHMAD ROHMAD\n"
     ]
    }
   ],
   "source": [
    "# + Operator\n",
    "s = 'foo'\n",
    "t = 'bar'\n",
    "u = 'baz'\n",
    "\n",
    "print(s + t + u)\n",
    "\n",
    "# * Operator\n",
    "s * 4\n",
    "\n",
    "# in Operator\n",
    "stu = 'foo'\n",
    "print(s in 'Thats food for us')\n",
    "print(s in 'Thats good for us')\n",
    "\n",
    "# Case Conversion\n",
    "s = 'RohMAD rohmad'\n",
    "\n",
    "print(s.capitalize())  #Capitalize Hanya berubah huruf depan\n",
    "print(s.lower())  #Lowercase berubah huruf kecil semua\n",
    "print(s.swapcase()\n",
    "      )  #merubah kebalikan kalimat misal kecil jadi besar dan sebaliknya\n",
    "print(s.title())  #merubah huruf besar disetiap kalimat\n",
    "print(s.upper())  #merubah huruf besar semua"
   ]
  },
  {
   "cell_type": "markdown",
   "id": "d1a66673",
   "metadata": {},
   "source": [
    "# Python List, Tuple and Dictionary"
   ]
  },
  {
   "cell_type": "code",
   "execution_count": 57,
   "id": "ff55d044",
   "metadata": {
    "code_folding": []
   },
   "outputs": [
    {
     "name": "stdout",
     "output_type": "stream",
     "text": [
      "baz\n",
      "30\n",
      "['bar', 'baz']\n",
      "['foo', 'bar', 'baz', 'qux', False, 30, 21.4, 'graulyt', 'graplay']\n",
      "['foo', 'bar', 'baz', 'qux', False, 30, 21.4, 'foo', 'bar', 'baz', 'qux', False, 30, 21.4]\n",
      "7\n",
      "[23, 24, 25, 'baz', 'qux', False, 30, 21.4]\n",
      "foo\n",
      "bar\n",
      "{'nama': 'Rohmad', 'hiobby': 'Coding', 'alamat': 'Jakarta', 'pets': {'cat': 'Ikan', 'fish': 'Kucing'}, 'activity': ['eat', 'sleep', 'repeat']}\n",
      "sleep\n",
      "Ikan\n",
      "{'nama': 'Rohmad', 'hiobby': 'Coding', 'alamat': 'Jakarta', 'pets': {'cat': 'Ikan', 'fish': 'Kucing'}, 'activity': ['eat', 'sleep', 'repeat'], 'telp': '0821'}\n",
      "{'nama': 'Rohmad', 'hiobby': 'Coding', 'pets': {'cat': 'Ikan', 'fish': 'Kucing'}, 'activity': ['eat', 'sleep', 'repeat'], 'telp': '0821'}\n"
     ]
    }
   ],
   "source": [
    "#LIST\n",
    "a = ['foo', 'bar', 'baz', 'qux', False, 30, 21.4]  #tipe data apa saja\n",
    "\n",
    "#cara memanggil list\n",
    "print(a[2])  #memanggil berdasarkan index mulai dari 0\n",
    "print(\n",
    "    a[-2]\n",
    ")  #memanggi berdasarkan index mulai dari -1, kondisi ini digunakan jika dari kanan atau belakang\n",
    "print(a[1:3])  #memanggil jumlah tertentu dari list\n",
    "print(a + ['graulyt', 'graplay'])  #memanipulasi menambahkan data ke list\n",
    "print(a * 2)  #digunakan untuk mengakalikan data 2 kali data list\n",
    "print(len(a))  #menghitung jumlah data yang ada di list\n",
    "a[0] = 23  #menambah hanya satu data\n",
    "a[1:2] = [24, 25]  #menambah banyak data\n",
    "print(a)\n",
    "\n",
    "#TUPLE\n",
    "t = ('foo', 'bar', 'baz', 'qux')  #tuple menggunakan tanda kurung\n",
    "print(t[0])  #cara memanggilnya seperti list\n",
    "(s1, s2, s3, s4) = ('foo', 'bar', 'baz', 'qux')\n",
    "print(s2)  #cara memanggil package tuple\n",
    "\n",
    "#Dictionary\n",
    "students = {\n",
    "    'nama': 'Rohmad',\n",
    "    'hiobby': 'Coding',\n",
    "    'alamat': 'Jakarta',\n",
    "    'pets': {\n",
    "        'cat': 'Ikan',\n",
    "        'fish': 'Kucing'\n",
    "    },\n",
    "    'activity': ['eat', 'sleep', 'repeat']\n",
    "}\n",
    "print(students)\n",
    "print(students['activity'][1])  # cara memanggil list di Dictionary\n",
    "print(\n",
    "    students['pets']['cat'])  #cara memanggil dictionary di dictionary(nested)\n",
    "students['telp'] = '0821'  #menambhakan data\n",
    "print(students)\n",
    "del students['alamat']  #menghapus data\n",
    "print(students)"
   ]
  },
  {
   "cell_type": "code",
   "execution_count": null,
   "id": "f85a7ad8",
   "metadata": {},
   "outputs": [],
   "source": []
  },
  {
   "cell_type": "code",
   "execution_count": null,
   "id": "f518b038",
   "metadata": {},
   "outputs": [],
   "source": []
  }
 ],
 "metadata": {
  "kernelspec": {
   "display_name": "Python 3",
   "language": "python",
   "name": "python3"
  },
  "language_info": {
   "codemirror_mode": {
    "name": "ipython",
    "version": 3
   },
   "file_extension": ".py",
   "mimetype": "text/x-python",
   "name": "python",
   "nbconvert_exporter": "python",
   "pygments_lexer": "ipython3",
   "version": "3.8.8"
  }
 },
 "nbformat": 4,
 "nbformat_minor": 5
}
