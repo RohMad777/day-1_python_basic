{
 "cells": [
  {
   "cell_type": "markdown",
   "id": "57ec9c92",
   "metadata": {},
   "source": [
    "# Type Data"
   ]
  },
  {
   "cell_type": "code",
   "execution_count": 11,
   "id": "8e43f502",
   "metadata": {},
   "outputs": [
    {
     "name": "stdout",
     "output_type": "stream",
     "text": [
      "<class 'int'>\n",
      "<class 'float'>\n",
      "<class 'str'>\n",
      "<class 'bool'>\n"
     ]
    }
   ],
   "source": [
    "x = 10\n",
    "y = 9.7\n",
    "z = \"RohMad\"\n",
    "bolean = True\n",
    "print(type(x))  #output tipe data integer\n",
    "print(type(y))  #output tipe data float\n",
    "print(type(z))  #output tipe data string\n",
    "print(type(bolean))  #output tipe data boolean"
   ]
  },
  {
   "cell_type": "markdown",
   "id": "5bee983a",
   "metadata": {},
   "source": [
    "# Operators and Expression in Python"
   ]
  },
  {
   "cell_type": "code",
   "execution_count": 15,
   "id": "cf811118",
   "metadata": {},
   "outputs": [
    {
     "name": "stdout",
     "output_type": "stream",
     "text": [
      "7\n",
      "1\n",
      "12\n",
      "1.3333333333333333\n",
      "1\n",
      "64\n",
      "False\n",
      "True\n",
      "False\n",
      "True\n"
     ]
    }
   ],
   "source": [
    "a = 4\n",
    "b = 3\n",
    "print(a + b)  # penambahan\n",
    "print(a - b)  # pengurangan\n",
    "print(a * b)  #perkalian\n",
    "print(a / b)  #pembagian\n",
    "print(a % b)  #sisa bagi/modulus\n",
    "print(a**b)  #perpangakatan\n",
    "\n",
    "#Comparion Operator\n",
    "print(a == b)  #samadengan/equal to\n",
    "print(a != b)  #tidak samadengan/not\n",
    "print(a <= b)  #samadengan kurang dari\n",
    "print(a >= b)  #samadengan lebih dari"
   ]
  },
  {
   "cell_type": "markdown",
   "id": "1c33d991",
   "metadata": {},
   "source": [
    "# String Manipulation"
   ]
  },
  {
   "cell_type": "code",
   "execution_count": 30,
   "id": "899e1538",
   "metadata": {},
   "outputs": [
    {
     "name": "stdout",
     "output_type": "stream",
     "text": [
      "foobarbaz\n",
      "True\n",
      "False\n",
      "Rohmad rohmad\n",
      "rohmad rohmad\n",
      "rOHmad ROHMAD\n",
      "Rohmad Rohmad\n",
      "ROHMAD ROHMAD\n"
     ]
    }
   ],
   "source": [
    "# + Operator\n",
    "s = 'foo'\n",
    "t = 'bar'\n",
    "u = 'baz'\n",
    "\n",
    "print(s + t + u)\n",
    "\n",
    "# * Operator\n",
    "s * 4\n",
    "\n",
    "# in Operator\n",
    "stu = 'foo'\n",
    "print(s in 'Thats food for us')\n",
    "print(s in 'Thats good for us')\n",
    "\n",
    "# Case Conversion\n",
    "s = 'RohMAD rohmad'\n",
    "\n",
    "print(s.capitalize())  #Capitalize Hanya berubah huruf depan\n",
    "print(s.lower())  #Lowercase berubah huruf kecil semua\n",
    "print(s.swapcase()\n",
    "      )  #merubah kebalikan kalimat misal kecil jadi besar dan sebaliknya\n",
    "print(s.title())  #merubah huruf besar disetiap kalimat\n",
    "print(s.upper())  #merubah huruf besar semua"
   ]
  },
  {
   "cell_type": "markdown",
   "id": "a9c6068f",
   "metadata": {},
   "source": [
    "# Python List, Tuple and Dictionary"
   ]
  },
  {
   "cell_type": "code",
   "execution_count": null,
   "id": "c229e61b",
   "metadata": {},
   "outputs": [],
   "source": []
  }
 ],
 "metadata": {
  "kernelspec": {
   "display_name": "Python 3",
   "language": "python",
   "name": "python3"
  },
  "language_info": {
   "codemirror_mode": {
    "name": "ipython",
    "version": 3
   },
   "file_extension": ".py",
   "mimetype": "text/x-python",
   "name": "python",
   "nbconvert_exporter": "python",
   "pygments_lexer": "ipython3",
   "version": "3.8.8"
  }
 },
 "nbformat": 4,
 "nbformat_minor": 5
}
